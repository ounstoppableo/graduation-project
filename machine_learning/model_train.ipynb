{
 "cells": [
  {
   "cell_type": "markdown",
   "metadata": {},
   "source": [
    "### 处理数据集\n",
    "- 将yes/no转换成1/0\n",
    "#### 大类"
   ]
  },
  {
   "cell_type": "code",
   "execution_count": null,
   "metadata": {},
   "outputs": [],
   "source": [
    "import pandas as pd\n",
    "import numpy as np\n",
    "LargeClass = pd.read_csv(\"..\\\\dataset\\\\train_dataset_metric_by_me\\\\LargeClass_YesNo.csv\")\n",
    "LargeClass = LargeClass.drop(columns=['Kind','lineno','class_name'])\n",
    "LargeClass.loc[LargeClass[\"smell\"]=='yes','smell'] = '1'\n",
    "LargeClass.loc[LargeClass[\"smell\"]=='no','smell'] = '0'\n",
    "\n",
    "LargeClass"
   ]
  },
  {
   "cell_type": "markdown",
   "metadata": {},
   "source": [
    "#### 长方法"
   ]
  },
  {
   "cell_type": "code",
   "execution_count": null,
   "metadata": {},
   "outputs": [],
   "source": [
    "LongMethod = pd.read_csv(\"..\\\\dataset\\\\train_dataset_metric_by_me\\\\LongMethod_YesNo.csv\")\n",
    "LongMethod = LongMethod.drop(columns=['Kind','lineno','function_name'])\n",
    "LongMethod.loc[LongMethod[\"smell\"]=='yes','smell'] = '1'\n",
    "LongMethod.loc[LongMethod[\"smell\"]=='no','smell'] = '0'\n",
    "\n",
    "LongMethod"
   ]
  },
  {
   "cell_type": "markdown",
   "metadata": {},
   "source": [
    "#### 长参数列"
   ]
  },
  {
   "cell_type": "code",
   "execution_count": null,
   "metadata": {},
   "outputs": [],
   "source": [
    "LongParameterList = pd.read_csv(\"..\\\\dataset\\\\train_dataset_metric_by_me\\\\LongParameterList_YesNo.csv\")\n",
    "LongParameterList = LongParameterList.drop(columns=['Kind','lineno','function_name'])\n",
    "LongParameterList.loc[LongParameterList[\"smell\"]=='yes','smell'] = '1'\n",
    "LongParameterList.loc[LongParameterList[\"smell\"]=='no','smell'] = '0'\n",
    "\n",
    "LongParameterList"
   ]
  },
  {
   "cell_type": "markdown",
   "metadata": {},
   "source": [
    "#### 长作用域链"
   ]
  },
  {
   "cell_type": "code",
   "execution_count": null,
   "metadata": {},
   "outputs": [],
   "source": [
    "LongScopeChaining = pd.read_csv(\"..\\\\dataset\\\\train_dataset_metric_by_me\\\\LongScopeChaining_YesNo.csv\")\n",
    "LongScopeChaining = LongScopeChaining.drop(columns=['Kind','lineno','function_name'])\n",
    "LongScopeChaining.loc[LongScopeChaining[\"smell\"]=='yes','smell'] = '1'\n",
    "LongScopeChaining.loc[LongScopeChaining[\"smell\"]=='no','smell'] = '0'\n",
    "\n",
    "LongScopeChaining"
   ]
  },
  {
   "cell_type": "markdown",
   "metadata": {},
   "source": [
    "### 拆分训练集（X）以及结果集（Y）\n",
    "#### 大类"
   ]
  },
  {
   "cell_type": "code",
   "execution_count": null,
   "metadata": {},
   "outputs": [],
   "source": [
    "LargeClassX = LargeClass.iloc[:,:-1].to_numpy()\n",
    "LargeClassY = LargeClass.iloc[:,-1:].to_numpy().flatten()\n",
    "\n",
    "print(LargeClass.columns)\n",
    "print(LargeClassX.shape, LargeClassY.shape)"
   ]
  },
  {
   "cell_type": "markdown",
   "metadata": {},
   "source": [
    "#### 长方法"
   ]
  },
  {
   "cell_type": "code",
   "execution_count": null,
   "metadata": {},
   "outputs": [],
   "source": [
    "LongMethodX = LongMethod.iloc[:,:-1].to_numpy()\n",
    "LongMethodY = LongMethod.iloc[:,-1:].to_numpy().flatten()\n",
    "\n",
    "print(LongMethod.columns)\n",
    "print(LongMethodX.shape, LongMethodY.shape)"
   ]
  },
  {
   "cell_type": "markdown",
   "metadata": {},
   "source": [
    "#### 长参数列"
   ]
  },
  {
   "cell_type": "code",
   "execution_count": null,
   "metadata": {},
   "outputs": [],
   "source": [
    "LongParameterListX = LongParameterList.iloc[:,:-1].to_numpy()\n",
    "LongParameterListY = LongParameterList.iloc[:,-1:].to_numpy().flatten()\n",
    "\n",
    "print(LongParameterList.columns)\n",
    "print(LongParameterListX.shape, LongParameterListY.shape)"
   ]
  },
  {
   "cell_type": "markdown",
   "metadata": {},
   "source": [
    "#### 长作用域链"
   ]
  },
  {
   "cell_type": "code",
   "execution_count": null,
   "metadata": {},
   "outputs": [],
   "source": [
    "LongScopeChainingX = LongScopeChaining.iloc[:,:-1].to_numpy()\n",
    "LongScopeChainingY = LongScopeChaining.iloc[:,-1:].to_numpy().flatten()\n",
    "\n",
    "print(LongScopeChaining.columns)\n",
    "print(LongScopeChainingX.shape, LongScopeChainingY.shape)"
   ]
  },
  {
   "cell_type": "markdown",
   "metadata": {},
   "source": [
    "### 大类训练"
   ]
  },
  {
   "cell_type": "code",
   "execution_count": 18,
   "metadata": {},
   "outputs": [
    {
     "name": "stderr",
     "output_type": "stream",
     "text": [
      "d:\\anaconda3\\envs\\pydeps\\Lib\\site-packages\\keras\\src\\saving\\saving_lib.py:418: UserWarning: Skipping variable loading for optimizer 'rmsprop', because it has 10 variables whereas the saved optimizer has 18 variables. \n",
      "  trackable.load_own_variables(weights_store.get(inner_path))\n",
      "d:\\anaconda3\\envs\\pydeps\\Lib\\site-packages\\scikeras\\wrappers.py:925: UserWarning: ``build_fn`` will be renamed to ``model`` in a future release, at which point use of ``build_fn`` will raise an Error instead.\n",
      "  X, y = self._initialize(X, y)\n"
     ]
    }
   ],
   "source": [
    "from model_train_function  import model_train_function \n",
    "lc_scores,lc_result = model_train_function('LargeClass',LargeClassX,LargeClassY)"
   ]
  },
  {
   "cell_type": "markdown",
   "metadata": {},
   "source": [
    "### 长方法训练"
   ]
  },
  {
   "cell_type": "code",
   "execution_count": null,
   "metadata": {},
   "outputs": [],
   "source": [
    "lm_scores,lm_result = model_train_function('LongMethod',LongMethodX,LongMethodY)"
   ]
  },
  {
   "cell_type": "markdown",
   "metadata": {},
   "source": [
    "### 长参数列训练"
   ]
  },
  {
   "cell_type": "code",
   "execution_count": null,
   "metadata": {},
   "outputs": [],
   "source": [
    "lpl_scores,lpl_result = model_train_function('LongParameterList',LongParameterListX,LongParameterListY)"
   ]
  },
  {
   "cell_type": "markdown",
   "metadata": {},
   "source": [
    "### 长作用域链训练"
   ]
  },
  {
   "cell_type": "code",
   "execution_count": null,
   "metadata": {},
   "outputs": [],
   "source": [
    "lsc_scores,lsc_result = model_train_function('LongScopeChain',LongScopeChainingX,LongScopeChainingY)"
   ]
  },
  {
   "cell_type": "code",
   "execution_count": null,
   "metadata": {},
   "outputs": [],
   "source": [
    "print(\"大类分数：\")\n",
    "df_lc = []\n",
    "for val1 in lc_scores.values():\n",
    "    rows = []\n",
    "    for val2 in val1.values():\n",
    "        rows.append(val2)\n",
    "    df_lc.append(rows)\n",
    "df_lc = pd.DataFrame(df_lc,columns=['precision','recall','f1'],index=['随机森林（rf）','支持向量机（svc）','朴素贝叶斯（nb）','逻辑回归（lr）','卷积神经网络（cnn）','二维卷积（cnn_2D）','集成算法（bagging）'])\n",
    "df_lc = df_lc.drop(index=['二维卷积（cnn_2D）'])\n",
    "avg = [df_lc['precision'].mean(),df_lc['recall'].mean(),df_lc['f1'].mean()]\n",
    "avg = pd.DataFrame([avg],columns=['precision','recall','f1'],index=['平均值（avg）'])\n",
    "df_lc = pd.concat([df_lc,avg])\n",
    "df_lc"
   ]
  },
  {
   "cell_type": "code",
   "execution_count": null,
   "metadata": {},
   "outputs": [],
   "source": [
    "print(\"长方法分数：\")\n",
    "df_lm = []\n",
    "for val1 in lm_scores.values():\n",
    "    rows = []\n",
    "    for val2 in val1.values():\n",
    "        rows.append(val2)\n",
    "    df_lm.append(rows)\n",
    "df_lm = pd.DataFrame(df_lm,columns=['precision','recall','f1'],index=['随机森林（rf）','支持向量机（svc）','朴素贝叶斯（nb）','逻辑回归（lr）','卷积神经网络（cnn）','二维卷积（cnn_2D）','集成算法（bagging）'])\n",
    "df_lm = df_lm.drop(index=['二维卷积（cnn_2D）'])\n",
    "avg = [df_lm['precision'].mean(),df_lm['recall'].mean(),df_lm['f1'].mean()]\n",
    "avg = pd.DataFrame([avg],columns=['precision','recall','f1'],index=['平均值（avg）'])\n",
    "df_lm = pd.concat([df_lm,avg])\n",
    "df_lm"
   ]
  },
  {
   "cell_type": "code",
   "execution_count": null,
   "metadata": {},
   "outputs": [],
   "source": [
    "print(\"长参数列分数：\")\n",
    "df_lpl = []\n",
    "for val1 in lpl_scores.values():\n",
    "    rows = []\n",
    "    for val2 in val1.values():\n",
    "        rows.append(val2)\n",
    "    df_lpl.append(rows)\n",
    "df_lpl = pd.DataFrame(df_lpl,columns=['precision','recall','f1'],index=['随机森林（rf）','支持向量机（svc）','朴素贝叶斯（nb）','逻辑回归（lr）','卷积神经网络（cnn）','二维卷积（cnn_2D）','集成算法（bagging）'])\n",
    "df_lpl = df_lpl.drop(index=['二维卷积（cnn_2D）'])\n",
    "avg = [df_lpl['precision'].mean(),df_lpl['recall'].mean(),df_lpl['f1'].mean()]\n",
    "avg = pd.DataFrame([avg],columns=['precision','recall','f1'],index=['平均值（avg）'])\n",
    "df_lpl = pd.concat([df_lpl,avg])\n",
    "df_lpl"
   ]
  },
  {
   "cell_type": "code",
   "execution_count": null,
   "metadata": {},
   "outputs": [],
   "source": [
    "print(\"长作用域链分数：\")\n",
    "df_lsc = []\n",
    "for val1 in lsc_scores.values():\n",
    "    rows = []\n",
    "    for val2 in val1.values():\n",
    "        rows.append(val2)\n",
    "    df_lsc.append(rows)\n",
    "df_lsc = pd.DataFrame(df_lsc,columns=['precision','recall','f1'],index=['随机森林（rf）','支持向量机（svc）','朴素贝叶斯（nb）','逻辑回归（lr）','卷积神经网络（cnn）','二维卷积（cnn_2D）','集成算法（bagging）'])\n",
    "df_lsc = df_lsc.drop(index=['二维卷积（cnn_2D）'])\n",
    "avg = [df_lsc['precision'].mean(),df_lsc['recall'].mean(),df_lsc['f1'].mean()]\n",
    "avg = pd.DataFrame([avg],columns=['precision','recall','f1'],index=['平均值（avg）'])\n",
    "df_lsc = pd.concat([df_lsc,avg])\n",
    "df_lsc"
   ]
  }
 ],
 "metadata": {
  "kernelspec": {
   "display_name": "GraduartionProject",
   "language": "python",
   "name": "python3"
  },
  "language_info": {
   "codemirror_mode": {
    "name": "ipython",
    "version": 3
   },
   "file_extension": ".py",
   "mimetype": "text/x-python",
   "name": "python",
   "nbconvert_exporter": "python",
   "pygments_lexer": "ipython3",
   "version": "3.11.8"
  }
 },
 "nbformat": 4,
 "nbformat_minor": 2
}
